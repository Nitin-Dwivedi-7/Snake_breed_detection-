{
  "nbformat": 4,
  "nbformat_minor": 0,
  "metadata": {
    "colab": {
      "name": "HE_s_25GB.ipynb",
      "provenance": [],
      "collapsed_sections": [],
      "toc_visible": true,
      "machine_shape": "hm",
      "include_colab_link": true
    },
    "kernelspec": {
      "name": "python3",
      "display_name": "Python 3"
    },
    "accelerator": "GPU"
  },
  "cells": [
    {
      "cell_type": "markdown",
      "metadata": {
        "id": "view-in-github",
        "colab_type": "text"
      },
      "source": [
        "<a href=\"https://colab.research.google.com/github/Nitin-Dwivedi-7/Snake_breed_detection-/blob/main/HE_s_25GB.ipynb\" target=\"_parent\"><img src=\"https://colab.research.google.com/assets/colab-badge.svg\" alt=\"Open In Colab\"/></a>"
      ]
    },
    {
      "cell_type": "markdown",
      "metadata": {
        "id": "4cbgwZWWfWpp"
      },
      "source": [
        "# New Section"
      ]
    },
    {
      "cell_type": "code",
      "metadata": {
        "id": "tAb77yZ9fzMG",
        "outputId": "4991043b-6277-4f3c-9adf-f6a1dc0ace55",
        "colab": {
          "base_uri": "https://localhost:8080/"
        }
      },
      "source": [
        "#Connection Google colab with google drive for importing dataset\n",
        "from google.colab import drive\n",
        "drive.mount('/content/drive')"
      ],
      "execution_count": null,
      "outputs": [
        {
          "output_type": "stream",
          "text": [
            "Mounted at /content/drive\n"
          ],
          "name": "stdout"
        }
      ]
    },
    {
      "cell_type": "code",
      "metadata": {
        "id": "pafL7Li0jyXW"
      },
      "source": [
        "#import Keras packages\n",
        "import tensorflow as tf\n",
        "import numpy as np\n",
        "import keras\n",
        "from keras.models import Sequential\n",
        "from keras.layers import Convolution2D\n",
        "from keras.layers import MaxPooling2D\n",
        "from keras.layers import Flatten\n",
        "from keras.layers import Dense\n",
        "from keras.layers import Dropout\n",
        "from keras.callbacks import ModelCheckpoint, EarlyStopping\n",
        "from keras.preprocessing.image import load_img\n",
        "import random\n",
        "\n",
        "import numpy as np\n",
        "from keras import applications\n",
        "from keras.layers import Input\n",
        "from keras.models import Model\n",
        "from keras import optimizers\n",
        "from keras.utils import get_file"
      ],
      "execution_count": null,
      "outputs": []
    },
    {
      "cell_type": "code",
      "metadata": {
        "id": "8JDkZP5cDs03"
      },
      "source": [
        "#importing saved dataset from drive  \n",
        "\n",
        "import pickle \n",
        "file = \"/content/drive/My Drive/HE/X_train.pkl\"\n",
        "f_o=open(file,\"rb\")\n",
        "X_train=pickle.load(f_o)\n",
        "f_o.close()\n",
        "file= \"/content/drive/My Drive/HE/Y_train.pkl\"\n",
        "f_o=open(file,\"rb\")\n",
        "Y_train=pickle.load(f_o)\n",
        "f_o.close()"
      ],
      "execution_count": null,
      "outputs": []
    },
    {
      "cell_type": "code",
      "metadata": {
        "id": "aBTLDXpaq1_8"
      },
      "source": [
        "#Coverting data into numpy array\n",
        "\n",
        "X_train= np.array(X_train)\n",
        "Y_train = np.array(Y_train)"
      ],
      "execution_count": null,
      "outputs": []
    },
    {
      "cell_type": "code",
      "metadata": {
        "id": "DVgA2wbMq4Aa"
      },
      "source": [
        "img_width, img_height = 256, 256        # Resolution of inputs\n",
        "\n",
        "batch_size = 64                        # Batch size\n",
        "epochs = 20                # Maximum number of epochs"
      ],
      "execution_count": null,
      "outputs": []
    },
    {
      "cell_type": "code",
      "metadata": {
        "id": "WfQ1oymIq7jX",
        "outputId": "6e1a3876-1136-4e40-c8f9-c17f071babbd",
        "colab": {
          "base_uri": "https://localhost:8080/"
        }
      },
      "source": [
        "# Load InceptionV3\n",
        "model=applications.inception_v3.InceptionV3(weights=\"imagenet\", include_top=False, input_shape=(img_width, img_height, 3))\n"
      ],
      "execution_count": null,
      "outputs": [
        {
          "output_type": "stream",
          "text": [
            "Downloading data from https://storage.googleapis.com/tensorflow/keras-applications/inception_v3/inception_v3_weights_tf_dim_ordering_tf_kernels_notop.h5\n",
            "87916544/87910968 [==============================] - 1s 0us/step\n"
          ],
          "name": "stdout"
        }
      ]
    },
    {
      "cell_type": "code",
      "metadata": {
        "id": "AGPz5cc2rM0z"
      },
      "source": [
        "# Freeze first 15 layers\n",
        "for layer in model.layers[:45]:\n",
        "\tlayer.trainable = False\n",
        "for layer in model.layers[45:]:\n",
        "   layer.trainable = True"
      ],
      "execution_count": null,
      "outputs": []
    },
    {
      "cell_type": "code",
      "metadata": {
        "id": "0YfNx71vrQpS"
      },
      "source": [
        "x = model.output\n",
        "x = Flatten()(x)\n",
        "x = Dense(1024, activation=\"relu\")(x)\n",
        "x = Dropout(0.5)(x)\n",
        "x = Dense(1024, activation=\"relu\")(x)\n",
        "x = Dropout(0.5)(x)\n",
        "predictions = Dense(35, activation=\"softmax\")(x) # 4-way softmax classifier at the end\n"
      ],
      "execution_count": null,
      "outputs": []
    },
    {
      "cell_type": "code",
      "metadata": {
        "id": "CJH_xFyprVF1"
      },
      "source": [
        "for index in range(10):\n",
        "  classifier = Model(model.input,predictions)\n",
        "  classifier.compile(loss=\"categorical_crossentropy\", optimizer=optimizers.SGD(lr=1e-3, momentum=0.9), metrics=[\"accuracy\"])\n",
        "\n",
        "\n",
        "\n"
      ],
      "execution_count": null,
      "outputs": []
    },
    {
      "cell_type": "code",
      "metadata": {
        "id": "IPhxrokdrZBY",
        "outputId": "d8a84ad6-311a-405a-eeb4-772f91feda47",
        "colab": {
          "base_uri": "https://localhost:8080/"
        }
      },
      "source": [
        "#fitting dataset with model \n",
        "    \n",
        "classifier.fit(X_train1,ytrain1,\n",
        "            steps_per_epoch=20,\n",
        "            epochs=100)\n",
        "    \n",
        "    \n",
        "    \n",
        "    "
      ],
      "execution_count": null,
      "outputs": [
        {
          "output_type": "stream",
          "text": [
            "Epoch 1/100\n",
            "20/20 [==============================] - 22s 1s/step - loss: 3.6426 - accuracy: 0.0561\n",
            "Epoch 2/100\n",
            "20/20 [==============================] - 19s 944ms/step - loss: 3.3956 - accuracy: 0.0908\n",
            "Epoch 3/100\n",
            "20/20 [==============================] - 19s 944ms/step - loss: 3.3056 - accuracy: 0.1078\n",
            "Epoch 4/100\n",
            "20/20 [==============================] - 19s 945ms/step - loss: 3.2302 - accuracy: 0.1169\n",
            "Epoch 5/100\n",
            "20/20 [==============================] - 19s 943ms/step - loss: 3.1284 - accuracy: 0.1333\n",
            "Epoch 6/100\n",
            "20/20 [==============================] - 19s 945ms/step - loss: 3.0286 - accuracy: 0.1541\n",
            "Epoch 7/100\n",
            "20/20 [==============================] - 19s 943ms/step - loss: 2.9099 - accuracy: 0.1854\n",
            "Epoch 8/100\n",
            "20/20 [==============================] - 19s 944ms/step - loss: 2.8005 - accuracy: 0.2177\n",
            "Epoch 9/100\n",
            "20/20 [==============================] - 19s 944ms/step - loss: 2.7011 - accuracy: 0.2367\n",
            "Epoch 10/100\n",
            "20/20 [==============================] - 19s 944ms/step - loss: 2.5681 - accuracy: 0.2823\n",
            "Epoch 11/100\n",
            "20/20 [==============================] - 19s 944ms/step - loss: 2.4485 - accuracy: 0.3170\n",
            "Epoch 12/100\n",
            "20/20 [==============================] - 19s 943ms/step - loss: 2.3354 - accuracy: 0.3500\n",
            "Epoch 13/100\n",
            "20/20 [==============================] - 19s 944ms/step - loss: 2.2246 - accuracy: 0.3785\n",
            "Epoch 14/100\n",
            "20/20 [==============================] - 19s 944ms/step - loss: 2.1156 - accuracy: 0.4185\n",
            "Epoch 15/100\n",
            "20/20 [==============================] - 19s 944ms/step - loss: 2.0557 - accuracy: 0.4297\n",
            "Epoch 16/100\n",
            "20/20 [==============================] - 19s 944ms/step - loss: 1.9422 - accuracy: 0.4642\n",
            "Epoch 17/100\n",
            "20/20 [==============================] - 19s 944ms/step - loss: 1.8483 - accuracy: 0.4942\n",
            "Epoch 18/100\n",
            "20/20 [==============================] - 19s 943ms/step - loss: 1.7639 - accuracy: 0.5096\n",
            "Epoch 19/100\n",
            "20/20 [==============================] - 19s 944ms/step - loss: 1.6934 - accuracy: 0.5287\n",
            "Epoch 20/100\n",
            "20/20 [==============================] - 19s 944ms/step - loss: 1.5686 - accuracy: 0.5657\n",
            "Epoch 21/100\n",
            "20/20 [==============================] - 19s 944ms/step - loss: 1.5016 - accuracy: 0.5802\n",
            "Epoch 22/100\n",
            "20/20 [==============================] - 19s 944ms/step - loss: 1.4260 - accuracy: 0.6042\n",
            "Epoch 23/100\n",
            "20/20 [==============================] - 19s 944ms/step - loss: 1.3984 - accuracy: 0.6093\n",
            "Epoch 24/100\n",
            "20/20 [==============================] - 19s 944ms/step - loss: 1.2941 - accuracy: 0.6445\n",
            "Epoch 25/100\n",
            "20/20 [==============================] - 19s 944ms/step - loss: 1.2110 - accuracy: 0.6652\n",
            "Epoch 26/100\n",
            "20/20 [==============================] - 19s 943ms/step - loss: 1.1196 - accuracy: 0.6997\n",
            "Epoch 27/100\n",
            "20/20 [==============================] - 19s 944ms/step - loss: 1.0546 - accuracy: 0.7106\n",
            "Epoch 28/100\n",
            "20/20 [==============================] - 19s 944ms/step - loss: 0.9902 - accuracy: 0.7279\n",
            "Epoch 29/100\n",
            "20/20 [==============================] - 19s 944ms/step - loss: 0.8995 - accuracy: 0.7600\n",
            "Epoch 30/100\n",
            "20/20 [==============================] - 19s 945ms/step - loss: 0.8228 - accuracy: 0.7771\n",
            "Epoch 31/100\n",
            "20/20 [==============================] - 19s 944ms/step - loss: 0.7748 - accuracy: 0.7963\n",
            "Epoch 32/100\n",
            "20/20 [==============================] - 19s 944ms/step - loss: 0.6998 - accuracy: 0.8128\n",
            "Epoch 33/100\n",
            "20/20 [==============================] - 19s 944ms/step - loss: 0.6900 - accuracy: 0.8146\n",
            "Epoch 34/100\n",
            "20/20 [==============================] - 19s 944ms/step - loss: 0.6047 - accuracy: 0.8404\n",
            "Epoch 35/100\n",
            "20/20 [==============================] - 19s 944ms/step - loss: 0.5413 - accuracy: 0.8542\n",
            "Epoch 36/100\n",
            "20/20 [==============================] - 19s 944ms/step - loss: 0.5033 - accuracy: 0.8715\n",
            "Epoch 37/100\n",
            "20/20 [==============================] - 19s 944ms/step - loss: 0.4746 - accuracy: 0.8827\n",
            "Epoch 38/100\n",
            "20/20 [==============================] - 19s 944ms/step - loss: 0.4191 - accuracy: 0.8956\n",
            "Epoch 39/100\n",
            "20/20 [==============================] - 19s 944ms/step - loss: 0.3836 - accuracy: 0.9041\n",
            "Epoch 40/100\n",
            "20/20 [==============================] - 19s 943ms/step - loss: 0.3496 - accuracy: 0.9149\n",
            "Epoch 41/100\n",
            "20/20 [==============================] - 19s 944ms/step - loss: 0.3081 - accuracy: 0.9272\n",
            "Epoch 42/100\n",
            "20/20 [==============================] - 19s 945ms/step - loss: 0.2954 - accuracy: 0.9299\n",
            "Epoch 43/100\n",
            "20/20 [==============================] - 19s 945ms/step - loss: 0.2828 - accuracy: 0.9325\n",
            "Epoch 44/100\n",
            "20/20 [==============================] - 19s 944ms/step - loss: 0.2307 - accuracy: 0.9475\n",
            "Epoch 45/100\n",
            "20/20 [==============================] - 19s 944ms/step - loss: 0.2028 - accuracy: 0.9552\n",
            "Epoch 46/100\n",
            "20/20 [==============================] - 19s 944ms/step - loss: 0.1971 - accuracy: 0.9532\n",
            "Epoch 47/100\n",
            "20/20 [==============================] - 19s 945ms/step - loss: 0.1781 - accuracy: 0.9630\n",
            "Epoch 48/100\n",
            "20/20 [==============================] - 19s 945ms/step - loss: 0.1636 - accuracy: 0.9641\n",
            "Epoch 49/100\n",
            "20/20 [==============================] - 19s 946ms/step - loss: 0.1505 - accuracy: 0.9653\n",
            "Epoch 50/100\n",
            "20/20 [==============================] - 19s 944ms/step - loss: 0.1331 - accuracy: 0.9739\n",
            "Epoch 51/100\n",
            "20/20 [==============================] - 19s 945ms/step - loss: 0.1389 - accuracy: 0.9711\n",
            "Epoch 52/100\n",
            "20/20 [==============================] - 19s 944ms/step - loss: 0.1149 - accuracy: 0.9759\n",
            "Epoch 53/100\n",
            "20/20 [==============================] - 19s 944ms/step - loss: 0.1116 - accuracy: 0.9753\n",
            "Epoch 54/100\n",
            "20/20 [==============================] - 19s 945ms/step - loss: 0.1020 - accuracy: 0.9779\n",
            "Epoch 55/100\n",
            "20/20 [==============================] - 19s 945ms/step - loss: 0.0922 - accuracy: 0.9831\n",
            "Epoch 56/100\n",
            "20/20 [==============================] - 19s 945ms/step - loss: 0.0913 - accuracy: 0.9817\n",
            "Epoch 57/100\n",
            "20/20 [==============================] - 19s 944ms/step - loss: 0.0815 - accuracy: 0.9833\n",
            "Epoch 58/100\n",
            "20/20 [==============================] - 19s 944ms/step - loss: 0.0774 - accuracy: 0.9857\n",
            "Epoch 59/100\n",
            "20/20 [==============================] - 19s 945ms/step - loss: 0.0786 - accuracy: 0.9849\n",
            "Epoch 60/100\n",
            "20/20 [==============================] - 19s 945ms/step - loss: 0.0726 - accuracy: 0.9853\n",
            "Epoch 61/100\n",
            "20/20 [==============================] - 19s 945ms/step - loss: 0.0669 - accuracy: 0.9869\n",
            "Epoch 62/100\n",
            "20/20 [==============================] - 19s 945ms/step - loss: 0.0529 - accuracy: 0.9920\n",
            "Epoch 63/100\n",
            "20/20 [==============================] - 19s 944ms/step - loss: 0.0578 - accuracy: 0.9893\n",
            "Epoch 64/100\n",
            "20/20 [==============================] - 19s 944ms/step - loss: 0.0592 - accuracy: 0.9887\n",
            "Epoch 65/100\n",
            "20/20 [==============================] - 19s 945ms/step - loss: 0.0549 - accuracy: 0.9891\n",
            "Epoch 66/100\n",
            "20/20 [==============================] - 19s 945ms/step - loss: 0.0525 - accuracy: 0.9920\n",
            "Epoch 67/100\n",
            "20/20 [==============================] - 19s 944ms/step - loss: 0.0560 - accuracy: 0.9873\n",
            "Epoch 68/100\n",
            "20/20 [==============================] - 19s 945ms/step - loss: 0.0497 - accuracy: 0.9922\n",
            "Epoch 69/100\n",
            "20/20 [==============================] - 19s 944ms/step - loss: 0.0468 - accuracy: 0.9931\n",
            "Epoch 70/100\n",
            "20/20 [==============================] - 19s 945ms/step - loss: 0.0470 - accuracy: 0.9907\n",
            "Epoch 71/100\n",
            "20/20 [==============================] - 19s 945ms/step - loss: 0.0483 - accuracy: 0.9918\n",
            "Epoch 72/100\n",
            "20/20 [==============================] - 19s 945ms/step - loss: 0.0433 - accuracy: 0.9935\n",
            "Epoch 73/100\n",
            "20/20 [==============================] - 19s 944ms/step - loss: 0.0457 - accuracy: 0.9907\n",
            "Epoch 74/100\n",
            "20/20 [==============================] - 19s 944ms/step - loss: 0.0404 - accuracy: 0.9924\n",
            "Epoch 75/100\n",
            "20/20 [==============================] - 19s 945ms/step - loss: 0.0425 - accuracy: 0.9906\n",
            "Epoch 76/100\n",
            "20/20 [==============================] - 19s 944ms/step - loss: 0.0432 - accuracy: 0.9920\n",
            "Epoch 77/100\n",
            "20/20 [==============================] - 19s 944ms/step - loss: 0.0371 - accuracy: 0.9927\n",
            "Epoch 78/100\n",
            "20/20 [==============================] - 19s 944ms/step - loss: 0.0343 - accuracy: 0.9940\n",
            "Epoch 79/100\n",
            "20/20 [==============================] - 19s 944ms/step - loss: 0.0382 - accuracy: 0.9931\n",
            "Epoch 80/100\n",
            "20/20 [==============================] - 19s 945ms/step - loss: 0.0384 - accuracy: 0.9911\n",
            "Epoch 81/100\n",
            "20/20 [==============================] - 19s 945ms/step - loss: 0.0340 - accuracy: 0.9936\n",
            "Epoch 82/100\n",
            "20/20 [==============================] - 19s 944ms/step - loss: 0.0344 - accuracy: 0.9931\n",
            "Epoch 83/100\n",
            "20/20 [==============================] - 19s 945ms/step - loss: 0.0314 - accuracy: 0.9949\n",
            "Epoch 84/100\n",
            "20/20 [==============================] - 19s 944ms/step - loss: 0.0292 - accuracy: 0.9960\n",
            "Epoch 85/100\n",
            "20/20 [==============================] - 19s 945ms/step - loss: 0.0290 - accuracy: 0.9944\n",
            "Epoch 86/100\n",
            "20/20 [==============================] - 19s 945ms/step - loss: 0.0260 - accuracy: 0.9962\n",
            "Epoch 87/100\n",
            "20/20 [==============================] - 19s 946ms/step - loss: 0.0253 - accuracy: 0.9953\n",
            "Epoch 88/100\n",
            "20/20 [==============================] - 19s 945ms/step - loss: 0.0302 - accuracy: 0.9946\n",
            "Epoch 89/100\n",
            "20/20 [==============================] - 19s 945ms/step - loss: 0.0247 - accuracy: 0.9958\n",
            "Epoch 90/100\n",
            "20/20 [==============================] - 19s 944ms/step - loss: 0.0250 - accuracy: 0.9966\n",
            "Epoch 91/100\n",
            "20/20 [==============================] - 19s 945ms/step - loss: 0.0243 - accuracy: 0.9958\n",
            "Epoch 92/100\n",
            "20/20 [==============================] - 19s 945ms/step - loss: 0.0235 - accuracy: 0.9964\n",
            "Epoch 93/100\n",
            "20/20 [==============================] - 19s 945ms/step - loss: 0.0220 - accuracy: 0.9962\n",
            "Epoch 94/100\n",
            "20/20 [==============================] - 19s 945ms/step - loss: 0.0241 - accuracy: 0.9949\n",
            "Epoch 95/100\n",
            "20/20 [==============================] - 19s 945ms/step - loss: 0.0210 - accuracy: 0.9964\n",
            "Epoch 96/100\n",
            "20/20 [==============================] - 19s 944ms/step - loss: 0.0215 - accuracy: 0.9962\n",
            "Epoch 97/100\n",
            "20/20 [==============================] - 19s 945ms/step - loss: 0.0194 - accuracy: 0.9975\n",
            "Epoch 98/100\n",
            "20/20 [==============================] - 19s 945ms/step - loss: 0.0206 - accuracy: 0.9967\n",
            "Epoch 99/100\n",
            "20/20 [==============================] - 19s 945ms/step - loss: 0.0172 - accuracy: 0.9973\n",
            "Epoch 100/100\n",
            "20/20 [==============================] - 19s 944ms/step - loss: 0.0200 - accuracy: 0.9969\n"
          ],
          "name": "stdout"
        },
        {
          "output_type": "execute_result",
          "data": {
            "text/plain": [
              "<tensorflow.python.keras.callbacks.History at 0x7fd677e07d30>"
            ]
          },
          "metadata": {
            "tags": []
          },
          "execution_count": 16
        }
      ]
    },
    {
      "cell_type": "code",
      "metadata": {
        "id": "9Jbv9x9XxBrX"
      },
      "source": [
        "#Saving weights for future use\n",
        "\n",
        "w_file = 'HE_Snake_Inception_model_weights_k10_day_1.h5'\n",
        "classifier.save_weights(w_file)\n",
        "    "
      ],
      "execution_count": null,
      "outputs": []
    },
    {
      "cell_type": "code",
      "metadata": {
        "id": "ISa3lFIJwATn"
      },
      "source": [
        "#loading saved weights\n",
        "classifier.load_weights(\"/content/drive/My Drive/HE/HE_Snake_Inception_model_weights_k10_day_1.h5\")"
      ],
      "execution_count": null,
      "outputs": []
    },
    {
      "cell_type": "code",
      "metadata": {
        "id": "oJT_vUWZwglZ"
      },
      "source": [
        "#importing test.csv file\n",
        "\n",
        "import pandas as pd\n",
        "file2 = pd.read_csv(\"/content/drive/My Drive/HE/test.csv\")"
      ],
      "execution_count": null,
      "outputs": []
    },
    {
      "cell_type": "code",
      "metadata": {
        "id": "_zVcf0eGuS6S",
        "outputId": "353a218c-5fb4-4577-8816-144975816a02",
        "colab": {
          "base_uri": "https://localhost:8080/",
          "height": 405
        }
      },
      "source": [
        "#loading test image form drive into list X\n",
        "\n",
        "X=[]\n",
        "count=0\n",
        "for i in file2['image_id']:\n",
        "    imagex=load_img(\"/content/drive/My Drive/HE/test/\"+i+\".jpg\",  \n",
        "    target_size= (256,256))\n",
        "    imagex=np.array(imagex)\n",
        "    X.append(imagex)\n",
        "    count=count+1\n",
        "    print(f\"image {i} done with count of {count}\")\n",
        "  "
      ],
      "execution_count": null,
      "outputs": [
        {
          "output_type": "error",
          "ename": "KeyboardInterrupt",
          "evalue": "ignored",
          "traceback": [
            "\u001b[0;31m---------------------------------------------------------------------------\u001b[0m",
            "\u001b[0;31mKeyboardInterrupt\u001b[0m                         Traceback (most recent call last)",
            "\u001b[0;32m<ipython-input-13-32169f514d0a>\u001b[0m in \u001b[0;36m<module>\u001b[0;34m()\u001b[0m\n\u001b[1;32m      3\u001b[0m \u001b[0;32mfor\u001b[0m \u001b[0mi\u001b[0m \u001b[0;32min\u001b[0m \u001b[0mfile2\u001b[0m\u001b[0;34m[\u001b[0m\u001b[0;34m'image_id'\u001b[0m\u001b[0;34m]\u001b[0m\u001b[0;34m:\u001b[0m\u001b[0;34m\u001b[0m\u001b[0;34m\u001b[0m\u001b[0m\n\u001b[1;32m      4\u001b[0m     imagex=load_img(\"/content/drive/My Drive/HE/test/\"+i+\".jpg\",  \n\u001b[0;32m----> 5\u001b[0;31m     target_size= (256,256))\n\u001b[0m\u001b[1;32m      6\u001b[0m     \u001b[0mimagex\u001b[0m\u001b[0;34m=\u001b[0m\u001b[0mnp\u001b[0m\u001b[0;34m.\u001b[0m\u001b[0marray\u001b[0m\u001b[0;34m(\u001b[0m\u001b[0mimagex\u001b[0m\u001b[0;34m)\u001b[0m\u001b[0;34m\u001b[0m\u001b[0;34m\u001b[0m\u001b[0m\n\u001b[1;32m      7\u001b[0m     \u001b[0mX\u001b[0m\u001b[0;34m.\u001b[0m\u001b[0mappend\u001b[0m\u001b[0;34m(\u001b[0m\u001b[0mimagex\u001b[0m\u001b[0;34m)\u001b[0m\u001b[0;34m\u001b[0m\u001b[0;34m\u001b[0m\u001b[0m\n",
            "\u001b[0;32m/usr/local/lib/python3.6/dist-packages/tensorflow/python/keras/preprocessing/image.py\u001b[0m in \u001b[0;36mload_img\u001b[0;34m(path, grayscale, color_mode, target_size, interpolation)\u001b[0m\n\u001b[1;32m    299\u001b[0m   \"\"\"\n\u001b[1;32m    300\u001b[0m   return image.load_img(path, grayscale=grayscale, color_mode=color_mode,\n\u001b[0;32m--> 301\u001b[0;31m                         target_size=target_size, interpolation=interpolation)\n\u001b[0m\u001b[1;32m    302\u001b[0m \u001b[0;34m\u001b[0m\u001b[0m\n\u001b[1;32m    303\u001b[0m \u001b[0;34m\u001b[0m\u001b[0m\n",
            "\u001b[0;32m/usr/local/lib/python3.6/dist-packages/keras_preprocessing/image/utils.py\u001b[0m in \u001b[0;36mload_img\u001b[0;34m(path, grayscale, color_mode, target_size, interpolation)\u001b[0m\n\u001b[1;32m    111\u001b[0m         raise ImportError('Could not import PIL.Image. '\n\u001b[1;32m    112\u001b[0m                           'The use of `load_img` requires PIL.')\n\u001b[0;32m--> 113\u001b[0;31m     \u001b[0;32mwith\u001b[0m \u001b[0mopen\u001b[0m\u001b[0;34m(\u001b[0m\u001b[0mpath\u001b[0m\u001b[0;34m,\u001b[0m \u001b[0;34m'rb'\u001b[0m\u001b[0;34m)\u001b[0m \u001b[0;32mas\u001b[0m \u001b[0mf\u001b[0m\u001b[0;34m:\u001b[0m\u001b[0;34m\u001b[0m\u001b[0;34m\u001b[0m\u001b[0m\n\u001b[0m\u001b[1;32m    114\u001b[0m         \u001b[0mimg\u001b[0m \u001b[0;34m=\u001b[0m \u001b[0mpil_image\u001b[0m\u001b[0;34m.\u001b[0m\u001b[0mopen\u001b[0m\u001b[0;34m(\u001b[0m\u001b[0mio\u001b[0m\u001b[0;34m.\u001b[0m\u001b[0mBytesIO\u001b[0m\u001b[0;34m(\u001b[0m\u001b[0mf\u001b[0m\u001b[0;34m.\u001b[0m\u001b[0mread\u001b[0m\u001b[0;34m(\u001b[0m\u001b[0;34m)\u001b[0m\u001b[0;34m)\u001b[0m\u001b[0;34m)\u001b[0m\u001b[0;34m\u001b[0m\u001b[0;34m\u001b[0m\u001b[0m\n\u001b[1;32m    115\u001b[0m         \u001b[0;32mif\u001b[0m \u001b[0mcolor_mode\u001b[0m \u001b[0;34m==\u001b[0m \u001b[0;34m'grayscale'\u001b[0m\u001b[0;34m:\u001b[0m\u001b[0;34m\u001b[0m\u001b[0;34m\u001b[0m\u001b[0m\n",
            "\u001b[0;31mKeyboardInterrupt\u001b[0m: "
          ]
        }
      ]
    },
    {
      "cell_type": "code",
      "metadata": {
        "id": "6qj5rCi42vW1"
      },
      "source": [
        "X=np.array(X)"
      ],
      "execution_count": null,
      "outputs": []
    },
    {
      "cell_type": "code",
      "metadata": {
        "id": "xF14g5Lo1bD1"
      },
      "source": [
        "#saving data and labels into a file\n",
        "import pickle \n",
        "file = \"Test_image.pkl\"\n",
        "f_o=open(file,'wb')\n",
        "\n",
        "pickle.dump(X,f_o)\n",
        "f_o.close()"
      ],
      "execution_count": null,
      "outputs": []
    },
    {
      "cell_type": "code",
      "metadata": {
        "id": "ggMHuFnyEyAk"
      },
      "source": [
        "import pickle \n",
        "file = \"/content/drive/My Drive/HE/Test_image.pkl\"\n",
        "f_o=open(file,\"rb\")\n",
        "X=pickle.load(f_o)\n",
        "f_o.close()"
      ],
      "execution_count": null,
      "outputs": []
    },
    {
      "cell_type": "code",
      "metadata": {
        "id": "v6kxGURXrcDw",
        "outputId": "328ddce5-c710-423b-8fe3-55f986ab57c4",
        "colab": {
          "base_uri": "https://localhost:8080/"
        }
      },
      "source": [
        "\n",
        "\n",
        "arr = classifier.predict(X)\n",
        "arr = np.argmax(arr, axis=1)\n",
        "\n",
        "print(arr)\n"
      ],
      "execution_count": null,
      "outputs": [
        {
          "output_type": "stream",
          "text": [
            "[ 9  9 23 ...  3 29 23]\n"
          ],
          "name": "stdout"
        }
      ]
    },
    {
      "cell_type": "code",
      "metadata": {
        "id": "eG860e3Fy7j8"
      },
      "source": [
        "result=[]\n",
        "for i in arr:\n",
        "  if(i==0):\n",
        "    result.append(\"nerodia-erythrogaster\")\n",
        "  elif(i==1):\n",
        "    result.append(\"pantherophis-vulpinus\")\n",
        "  elif(i==2):\n",
        "    result.append(\"thamnophis-sirtalis\")\n",
        "  elif(i==3):\n",
        "    result.append(\"pantherophis-obsoletus\")\n",
        "  elif(i==4):\n",
        "    result.append(\"agkistrodon-contortrix\")\n",
        "  elif(i==5):\n",
        "    result.append(\"crotalus-atrox\")\n",
        "  elif(i==6):\n",
        "    result.append(\"lampropeltis-triangulum\")\n",
        "  elif(i==7):\n",
        "    result.append(\"crotalus-horridus\")\n",
        "  elif(i==8):\n",
        "    result.append(\"crotalus-ruber\")\n",
        "  elif(i==9):\n",
        "    result.append(\"heterodon-platirhinos\")\n",
        "  elif(i==10):\n",
        "    result.append(\"nerodia-sipedon\")\n",
        "  elif(i==11):\n",
        "    result.append(\"thamnophis-elegans\")\n",
        "  elif(i==12):\n",
        "    result.append(\"thamnophis-marcianus\")\n",
        "  elif(i==13):\n",
        "    result.append(\"crotalus-viridis\")\n",
        "  elif(i==14):\n",
        "    result.append(\"nerodia-fasciata\")\n",
        "  elif(i==15):\n",
        "    result.append(\"haldea-striatula\")\n",
        "  elif(i==16):\n",
        "    result.append(\"storeria-dekayi\")\n",
        "  elif(i==17):\n",
        "    result.append(\"agkistrodon-piscivorus\")\n",
        "  elif(i==18):\n",
        "    result.append(\"nerodia-rhombifer\")\n",
        "  elif(i==19):\n",
        "    result.append(\"storeria-occipitomaculata\")\n",
        "  elif(i==20):\n",
        "    result.append(\"thamnophis-radix\")\n",
        "  elif( i==21):\n",
        "    result.append(\"coluber-constrictor\")\n",
        "  elif(i==22):\n",
        "    result.append(\"natrix-natrix\")\n",
        "  elif(i==23):\n",
        "    result.append(\"diadophis-punctatus\")\n",
        "  elif(i==24):\n",
        "    result.append(\"masticophis-flagellum\")\n",
        "  elif(i==25):\n",
        "    result.append(\"pantherophis-spiloides\")\n",
        "  elif(i==26):\n",
        "    result.append(\"rhinocheilus-lecontei\")\n",
        "  elif(i==27):\n",
        "    result.append(\"lampropeltis-californiae\")\n",
        "  elif(i==28):\n",
        "    result.append(\"pituophis-catenifer\")\n",
        "  elif(i==29):\n",
        "    result.append(\"opheodrys-aestivus\")\n",
        "  elif(i==30):\n",
        "    result.append(\"pantherophis-guttatus\")\n",
        "  elif(i==31):\n",
        "    result.append(\"pantherophis-alleghaniensis\")\n",
        "  elif(i==32):\n",
        "    result.append(\"thamnophis-proximus\")\n",
        "  elif(i==33):\n",
        "    result.append(\"pantherophis-emoryi\")\n",
        "  elif(i==34):\n",
        "    result.append(\"crotalus-scutulatus\")\n",
        "    "
      ],
      "execution_count": null,
      "outputs": []
    },
    {
      "cell_type": "code",
      "metadata": {
        "id": "bpnkr7uCKnpk"
      },
      "source": [
        "file2['breed']=result"
      ],
      "execution_count": null,
      "outputs": []
    },
    {
      "cell_type": "code",
      "metadata": {
        "id": "FK5vIJYcGRic",
        "outputId": "a23e9486-08f6-4906-d686-649dfc5e0fd1",
        "colab": {
          "base_uri": "https://localhost:8080/",
          "height": 399
        }
      },
      "source": [
        "file2"
      ],
      "execution_count": null,
      "outputs": [
        {
          "output_type": "execute_result",
          "data": {
            "text/html": [
              "<div>\n",
              "<style scoped>\n",
              "    .dataframe tbody tr th:only-of-type {\n",
              "        vertical-align: middle;\n",
              "    }\n",
              "\n",
              "    .dataframe tbody tr th {\n",
              "        vertical-align: top;\n",
              "    }\n",
              "\n",
              "    .dataframe thead th {\n",
              "        text-align: right;\n",
              "    }\n",
              "</style>\n",
              "<table border=\"1\" class=\"dataframe\">\n",
              "  <thead>\n",
              "    <tr style=\"text-align: right;\">\n",
              "      <th></th>\n",
              "      <th>image_id</th>\n",
              "      <th>breed</th>\n",
              "    </tr>\n",
              "  </thead>\n",
              "  <tbody>\n",
              "    <tr>\n",
              "      <th>0</th>\n",
              "      <td>7ede553357</td>\n",
              "      <td>heterodon-platirhinos</td>\n",
              "    </tr>\n",
              "    <tr>\n",
              "      <th>1</th>\n",
              "      <td>3500b219e4</td>\n",
              "      <td>heterodon-platirhinos</td>\n",
              "    </tr>\n",
              "    <tr>\n",
              "      <th>2</th>\n",
              "      <td>d43a78d6d9</td>\n",
              "      <td>diadophis-punctatus</td>\n",
              "    </tr>\n",
              "    <tr>\n",
              "      <th>3</th>\n",
              "      <td>1f36f26994</td>\n",
              "      <td>pantherophis-alleghaniensis</td>\n",
              "    </tr>\n",
              "    <tr>\n",
              "      <th>4</th>\n",
              "      <td>8cb85fc58e</td>\n",
              "      <td>nerodia-sipedon</td>\n",
              "    </tr>\n",
              "    <tr>\n",
              "      <th>...</th>\n",
              "      <td>...</td>\n",
              "      <td>...</td>\n",
              "    </tr>\n",
              "    <tr>\n",
              "      <th>2356</th>\n",
              "      <td>93e591cb23</td>\n",
              "      <td>pantherophis-vulpinus</td>\n",
              "    </tr>\n",
              "    <tr>\n",
              "      <th>2357</th>\n",
              "      <td>68a603b39d</td>\n",
              "      <td>thamnophis-sirtalis</td>\n",
              "    </tr>\n",
              "    <tr>\n",
              "      <th>2358</th>\n",
              "      <td>4f472510f3</td>\n",
              "      <td>pantherophis-obsoletus</td>\n",
              "    </tr>\n",
              "    <tr>\n",
              "      <th>2359</th>\n",
              "      <td>d6884444ae</td>\n",
              "      <td>opheodrys-aestivus</td>\n",
              "    </tr>\n",
              "    <tr>\n",
              "      <th>2360</th>\n",
              "      <td>c0fa7df5de</td>\n",
              "      <td>diadophis-punctatus</td>\n",
              "    </tr>\n",
              "  </tbody>\n",
              "</table>\n",
              "<p>2361 rows × 2 columns</p>\n",
              "</div>"
            ],
            "text/plain": [
              "        image_id                        breed\n",
              "0     7ede553357        heterodon-platirhinos\n",
              "1     3500b219e4        heterodon-platirhinos\n",
              "2     d43a78d6d9          diadophis-punctatus\n",
              "3     1f36f26994  pantherophis-alleghaniensis\n",
              "4     8cb85fc58e              nerodia-sipedon\n",
              "...          ...                          ...\n",
              "2356  93e591cb23        pantherophis-vulpinus\n",
              "2357  68a603b39d          thamnophis-sirtalis\n",
              "2358  4f472510f3       pantherophis-obsoletus\n",
              "2359  d6884444ae           opheodrys-aestivus\n",
              "2360  c0fa7df5de          diadophis-punctatus\n",
              "\n",
              "[2361 rows x 2 columns]"
            ]
          },
          "metadata": {
            "tags": []
          },
          "execution_count": 18
        }
      ]
    },
    {
      "cell_type": "code",
      "metadata": {
        "id": "HtVv1Z515nx2"
      },
      "source": [
        "df = pd.DataFrame(file2) "
      ],
      "execution_count": null,
      "outputs": []
    },
    {
      "cell_type": "code",
      "metadata": {
        "id": "PcofzBwdGZju",
        "outputId": "e6a0d0e0-6a6a-4ba5-b8b9-d0c30ff338fb",
        "colab": {
          "base_uri": "https://localhost:8080/",
          "height": 399
        }
      },
      "source": [
        "df"
      ],
      "execution_count": null,
      "outputs": [
        {
          "output_type": "execute_result",
          "data": {
            "text/html": [
              "<div>\n",
              "<style scoped>\n",
              "    .dataframe tbody tr th:only-of-type {\n",
              "        vertical-align: middle;\n",
              "    }\n",
              "\n",
              "    .dataframe tbody tr th {\n",
              "        vertical-align: top;\n",
              "    }\n",
              "\n",
              "    .dataframe thead th {\n",
              "        text-align: right;\n",
              "    }\n",
              "</style>\n",
              "<table border=\"1\" class=\"dataframe\">\n",
              "  <thead>\n",
              "    <tr style=\"text-align: right;\">\n",
              "      <th></th>\n",
              "      <th>image_id</th>\n",
              "      <th>breed</th>\n",
              "    </tr>\n",
              "  </thead>\n",
              "  <tbody>\n",
              "    <tr>\n",
              "      <th>0</th>\n",
              "      <td>7ede553357</td>\n",
              "      <td>heterodon-platirhinos</td>\n",
              "    </tr>\n",
              "    <tr>\n",
              "      <th>1</th>\n",
              "      <td>3500b219e4</td>\n",
              "      <td>heterodon-platirhinos</td>\n",
              "    </tr>\n",
              "    <tr>\n",
              "      <th>2</th>\n",
              "      <td>d43a78d6d9</td>\n",
              "      <td>diadophis-punctatus</td>\n",
              "    </tr>\n",
              "    <tr>\n",
              "      <th>3</th>\n",
              "      <td>1f36f26994</td>\n",
              "      <td>pantherophis-alleghaniensis</td>\n",
              "    </tr>\n",
              "    <tr>\n",
              "      <th>4</th>\n",
              "      <td>8cb85fc58e</td>\n",
              "      <td>nerodia-sipedon</td>\n",
              "    </tr>\n",
              "    <tr>\n",
              "      <th>...</th>\n",
              "      <td>...</td>\n",
              "      <td>...</td>\n",
              "    </tr>\n",
              "    <tr>\n",
              "      <th>2356</th>\n",
              "      <td>93e591cb23</td>\n",
              "      <td>pantherophis-vulpinus</td>\n",
              "    </tr>\n",
              "    <tr>\n",
              "      <th>2357</th>\n",
              "      <td>68a603b39d</td>\n",
              "      <td>thamnophis-sirtalis</td>\n",
              "    </tr>\n",
              "    <tr>\n",
              "      <th>2358</th>\n",
              "      <td>4f472510f3</td>\n",
              "      <td>pantherophis-obsoletus</td>\n",
              "    </tr>\n",
              "    <tr>\n",
              "      <th>2359</th>\n",
              "      <td>d6884444ae</td>\n",
              "      <td>opheodrys-aestivus</td>\n",
              "    </tr>\n",
              "    <tr>\n",
              "      <th>2360</th>\n",
              "      <td>c0fa7df5de</td>\n",
              "      <td>diadophis-punctatus</td>\n",
              "    </tr>\n",
              "  </tbody>\n",
              "</table>\n",
              "<p>2361 rows × 2 columns</p>\n",
              "</div>"
            ],
            "text/plain": [
              "        image_id                        breed\n",
              "0     7ede553357        heterodon-platirhinos\n",
              "1     3500b219e4        heterodon-platirhinos\n",
              "2     d43a78d6d9          diadophis-punctatus\n",
              "3     1f36f26994  pantherophis-alleghaniensis\n",
              "4     8cb85fc58e              nerodia-sipedon\n",
              "...          ...                          ...\n",
              "2356  93e591cb23        pantherophis-vulpinus\n",
              "2357  68a603b39d          thamnophis-sirtalis\n",
              "2358  4f472510f3       pantherophis-obsoletus\n",
              "2359  d6884444ae           opheodrys-aestivus\n",
              "2360  c0fa7df5de          diadophis-punctatus\n",
              "\n",
              "[2361 rows x 2 columns]"
            ]
          },
          "metadata": {
            "tags": []
          },
          "execution_count": 23
        }
      ]
    },
    {
      "cell_type": "code",
      "metadata": {
        "id": "3sWnViNv617_"
      },
      "source": [
        "# saving the dataframe  \n",
        "df.to_csv('abc[\"image_id\",\"breed\"].csv') "
      ],
      "execution_count": null,
      "outputs": []
    },
    {
      "cell_type": "code",
      "metadata": {
        "id": "mpnhli5X7bzs"
      },
      "source": [
        ""
      ],
      "execution_count": null,
      "outputs": []
    }
  ]
}